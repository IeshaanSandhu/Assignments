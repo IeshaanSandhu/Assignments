{
 "cells": [
  {
   "cell_type": "code",
   "execution_count": 1,
   "id": "26ec0607",
   "metadata": {},
   "outputs": [
    {
     "name": "stdout",
     "output_type": "stream",
     "text": [
      "34 "
     ]
    }
   ],
   "source": [
    "#Write a Python program to get the Fibonacci series between 0 to 50\n",
    "\n",
    "n= 50\n",
    "a=0\n",
    "b=1\n",
    "\n",
    "for x in range(0,8):\n",
    "        c=a+b                           \n",
    "        a=b\n",
    "        b=c\n",
    "        \n",
    "        if c>50:\n",
    "            break\n",
    "            \n",
    "        print(c,end=\" \")\n",
    "        "
   ]
  },
  {
   "cell_type": "code",
   "execution_count": null,
   "id": "55082435",
   "metadata": {},
   "outputs": [],
   "source": [
    "\n",
    "##MIRROR\n",
    "\n",
    "\n",
    "word = input('enter a word')\n",
    "rword = word[::-1]\n",
    "print (rword)"
   ]
  },
  {
   "cell_type": "code",
   "execution_count": null,
   "id": "215f0e8e",
   "metadata": {},
   "outputs": [],
   "source": [
    "##Count odd and even numbers\n",
    "\n",
    "numbers = (1, 2, 3, 4, 5, 6, 7, 8, 9) \n",
    "\n",
    "evencount=0\n",
    "oddcount=0\n",
    "\n",
    "for i in numbers:\n",
    "    if i % 2 ==0 :\n",
    "        evencount=evencount+1\n",
    "    else:\n",
    "        oddcount=oddcount+1\n",
    "        \n",
    "print (\"Number of even numbers :\", evencount)\n",
    "print (\"Number of odd numbers :\", oddcount)"
   ]
  },
  {
   "cell_type": "code",
   "execution_count": null,
   "id": "a6cbafda",
   "metadata": {},
   "outputs": [],
   "source": []
  }
 ],
 "metadata": {
  "kernelspec": {
   "display_name": "Python 3 (ipykernel)",
   "language": "python",
   "name": "python3"
  },
  "language_info": {
   "codemirror_mode": {
    "name": "ipython",
    "version": 3
   },
   "file_extension": ".py",
   "mimetype": "text/x-python",
   "name": "python",
   "nbconvert_exporter": "python",
   "pygments_lexer": "ipython3",
   "version": "3.10.1"
  }
 },
 "nbformat": 4,
 "nbformat_minor": 5
}
