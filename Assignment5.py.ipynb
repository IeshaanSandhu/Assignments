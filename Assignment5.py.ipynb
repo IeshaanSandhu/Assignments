{
 "cells": [
  {
   "cell_type": "code",
   "execution_count": 2,
   "id": "a24825f4",
   "metadata": {},
   "outputs": [
    {
     "name": "stdout",
     "output_type": "stream",
     "text": [
      "Enter base number (x)= 10\n",
      "Enter power number (n)=2\n",
      "The Expected output = 100\n"
     ]
    }
   ],
   "source": [
    "#Write a Python class to implement pow(x, n)\n",
    "#Explanation:\n",
    "#Use should be able to find the nth power of the x.(i.e x*x*x*x...n times)\n",
    "#You must implement it using Class\n",
    "#Sample Input:\n",
    "#x: 10\n",
    "#n: 2\n",
    "#Sample Output:\n",
    "#100\n",
    "\n",
    "from ast import literal_eval\n",
    "\n",
    "class Power:\n",
    "    def __init__(self, x, n ):\n",
    "        self.x = x\n",
    "        self.n = n\n",
    "        \n",
    "    def power_num(self):\n",
    "        if isinstance(self.x, (int,float)):        # check whether x object belong to int, float class    \n",
    "            if isinstance(self.n, (int, float)):   # check whether x object belong to int, float class \n",
    "                if self.x == 0:\n",
    "                    if self.n <=0:\n",
    "                        return (\"Error\")   \n",
    "                    else:\n",
    "                        return 0                      \n",
    "                elif self.n == 0:                   \n",
    "                    return 1\n",
    "                elif self.n < 0:                     \n",
    "                    self.n = abs(self.n)\n",
    "                    x = 1/(self.x**self.n)\n",
    "                    return x\n",
    "                else:\n",
    "                    res = self.x**self.n\n",
    "                    return res\n",
    "            else: \n",
    "                return (\"Not a valid number\")      \n",
    "        else: \n",
    "            return (\"Not a valid number\")\n",
    "    \n",
    "x = literal_eval(input(\"Enter base number (x)= \"))     \n",
    "n = literal_eval(input(\"Enter power number (n)=\"))\n",
    "obj1 = Power(x,n)\n",
    "result = obj1.power_num()\n",
    "print(\"The Expected output = {}\".format(result)) "
   ]
  }
 ],
 "metadata": {
  "kernelspec": {
   "display_name": "Python 3 (ipykernel)",
   "language": "python",
   "name": "python3"
  },
  "language_info": {
   "codemirror_mode": {
    "name": "ipython",
    "version": 3
   },
   "file_extension": ".py",
   "mimetype": "text/x-python",
   "name": "python",
   "nbconvert_exporter": "python",
   "pygments_lexer": "ipython3",
   "version": "3.10.1"
  }
 },
 "nbformat": 4,
 "nbformat_minor": 5
}
