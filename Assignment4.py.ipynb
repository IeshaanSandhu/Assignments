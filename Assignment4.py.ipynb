{
 "cells": [
  {
   "cell_type": "code",
   "execution_count": 1,
   "id": "cb45708f",
   "metadata": {},
   "outputs": [
    {
     "name": "stdout",
     "output_type": "stream",
     "text": [
      "35\n"
     ]
    }
   ],
   "source": [
    "# Write a Python program to create a lambda function that adds 25 to a given number passed in as an argument.\n",
    "\n",
    "\n",
    "number = 10\n",
    "x = lambda n : number + 25\n",
    "\n",
    "print(x(number))"
   ]
  },
  {
   "cell_type": "code",
   "execution_count": 2,
   "id": "c73e3d17",
   "metadata": {},
   "outputs": [
    {
     "name": "stdout",
     "output_type": "stream",
     "text": [
      "orignal List [1, 2, 3, 4, 5, 6, 7]\n",
      "the Expected output is\n",
      "[3, 6, 9, 12, 15, 18, 21]\n"
     ]
    }
   ],
   "source": [
    "# Write a Python program to triple all numbers of a given list of integers. Use Python map.\n",
    "\n",
    "List = [1, 2, 3, 4, 5, 6, 7]\n",
    "print(\"orignal List\", List)\n",
    "function = map(lambda x : x + x + x, List )\n",
    "print(\"the Expected output is\")\n",
    "print(list(function))\n"
   ]
  },
  {
   "cell_type": "code",
   "execution_count": 3,
   "id": "ef2354cf",
   "metadata": {},
   "outputs": [
    {
     "name": "stdout",
     "output_type": "stream",
     "text": [
      "the orignal list [4, 5, 2, 9]\n",
      "expected output list\n",
      "[16, 25, 4, 81]\n"
     ]
    }
   ],
   "source": [
    "# Write a Python program to square the elements of a list using map() function.\n",
    "\n",
    "def square(n):\n",
    "    return n*n\n",
    "List = [4, 5, 2, 9]\n",
    "print(\"the orignal list\", List)\n",
    "for i in List:\n",
    "    result = map(square, List)\n",
    "print(\"expected output list\")\n",
    "print(list(result))"
   ]
  },
  {
   "cell_type": "code",
   "execution_count": null,
   "id": "0ddeffbe",
   "metadata": {},
   "outputs": [],
   "source": []
  }
 ],
 "metadata": {
  "kernelspec": {
   "display_name": "Python 3 (ipykernel)",
   "language": "python",
   "name": "python3"
  },
  "language_info": {
   "codemirror_mode": {
    "name": "ipython",
    "version": 3
   },
   "file_extension": ".py",
   "mimetype": "text/x-python",
   "name": "python",
   "nbconvert_exporter": "python",
   "pygments_lexer": "ipython3",
   "version": "3.10.1"
  }
 },
 "nbformat": 4,
 "nbformat_minor": 5
}
