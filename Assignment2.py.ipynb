{
 "cells": [
  {
   "cell_type": "code",
   "execution_count": 14,
   "id": "44e59194",
   "metadata": {},
   "outputs": [
    {
     "name": "stdout",
     "output_type": "stream",
     "text": [
      "[[(1, 1)], [(2, 4)], [(3, 9)], [(4, 16)], [(5, 25)]]\n"
     ]
    }
   ],
   "source": [
    "#Write a Python program ---->\n",
    "#step 1: create a list L1 = [1,2,3,4,5]\n",
    "#step 2 : use L1 to make a list of tuples like below:\n",
    "\n",
    "#Soultion\n",
    "\n",
    "L1 = [1,2,3,4,5]\n",
    "L2 = []\n",
    "\n",
    "for value in L1:\n",
    "        result = [(value, (value**2))]\n",
    "    \n",
    "        L2.append(result)\n",
    "\n",
    "print(L2)\n"
   ]
  },
  {
   "cell_type": "code",
   "execution_count": 10,
   "id": "428224ae",
   "metadata": {},
   "outputs": [
    {
     "name": "stdout",
     "output_type": "stream",
     "text": [
      "{'a': 97, 'b': 98, 'c': 99, 'd': 100, 'e': 101, 'f': 102, 'g': 103, 'h': 104, 'i': 105, 'j': 106, 'k': 107, 'l': 108, 'm': 109, 'n': 110, 'o': 111, 'p': 112, 'q': 113, 'r': 114, 's': 115, 't': 116, 'u': 117, 'v': 118, 'w': 119, 'x': 120, 'y': 121, 'z': 122}\n"
     ]
    }
   ],
   "source": [
    "#Write a Python program to print a dictionary whose keys should \n",
    "#be the alphabet from a-z and the value should be corresponding ASCII values\n",
    "#Hint: ord('a') = 97\n",
    "#Sample Output :\n",
    "#{'a': 97, 'b': 98, 'c': 99...........}\n",
    "\n",
    "#Soultion\n",
    "\n",
    "D={}\n",
    "for i in range(97,123):\n",
    "     z=chr(i)    \n",
    "     D[z]=i\n",
    "\n",
    "print (D)    "
   ]
  },
  {
   "cell_type": "code",
   "execution_count": null,
   "id": "4a1caf14",
   "metadata": {},
   "outputs": [],
   "source": []
  }
 ],
 "metadata": {
  "kernelspec": {
   "display_name": "Python 3 (ipykernel)",
   "language": "python",
   "name": "python3"
  },
  "language_info": {
   "codemirror_mode": {
    "name": "ipython",
    "version": 3
   },
   "file_extension": ".py",
   "mimetype": "text/x-python",
   "name": "python",
   "nbconvert_exporter": "python",
   "pygments_lexer": "ipython3",
   "version": "3.10.1"
  }
 },
 "nbformat": 4,
 "nbformat_minor": 5
}
